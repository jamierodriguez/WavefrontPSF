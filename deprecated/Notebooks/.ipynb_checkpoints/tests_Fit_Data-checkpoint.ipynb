{
 "metadata": {
  "name": ""
 },
 "nbformat": 3,
 "nbformat_minor": 0,
 "worksheets": [
  {
   "cells": [
    {
     "cell_type": "markdown",
     "metadata": {},
     "source": [
      "basically take the catalog python script and put it here!"
     ]
    },
    {
     "cell_type": "code",
     "collapsed": false,
     "input": [
      "import numpy as np\n",
      "\n",
      "expid = 232697\n",
      "path_mesh = '/Users/cpd/Desktop/Meshes/'\n",
      "\n",
      "# remake the catalogs...\n",
      "expids = np.arange(231046, 231053)\n",
      "expids = np.append(expids, range(231089, 231096))\n",
      "expids = np.append(expids, range(232608, 232849))\n",
      "expids = np.append(expids, range(233377, 233571))\n",
      "expids = np.append(expids, range(233584, 233642))\n",
      "\n",
      "rids = [20130906105326] * (231053 - 231046) + \\\n",
      "       [20130906105326] * (231096 - 231089) + \\\n",
      "       [20130911103044] * (232849 - 232608) + \\\n",
      "       [20130913151017] * (233571 - 233377) + \\\n",
      "       [20130913151017] * (233642 - 233584)\n",
      "\n",
      "dates = [20130905] * (231053 - 231046) + \\\n",
      "        [20130905] * (231096 - 231089) + \\\n",
      "        [20130910] * (232849 - 232608) + \\\n",
      "        [20130912] * (233571 - 233377) + \\\n",
      "        [20130912] * (233642 - 233584)\n",
      "\n",
      "ith = np.argwhere(expid == expids)[0]\n",
      "rid = rids[ith]\n",
      "date = dates[ith]\n",
      "\n",
      "dataDirectory = \"/Volumes/Seagate/Images/\"\n",
      "dataDirectory = \"/Users/cpd/Desktop/Images/\"\n",
      "\n",
      "args_dict = {'expid': expid,\n",
      "             'path_mesh': path_mesh,\n",
      "             'mesh_name': \"Science20120915s1v3_134239\",\n",
      "             'output_directory': dataDirectory + '{0:08d}/'.format(expid),\n",
      "             'catalogs': dataDirectory,\n",
      "             'rid': rid,\n",
      "             'date': date,\n",
      "             'conds': 'default',\n",
      "             'size': 32,\n",
      "             }\n",
      "\n",
      "parser_transform = {'expid': '-e',\n",
      "                    'path_mesh': '-m',\n",
      "                    'mesh_name': '-n',\n",
      "                    'output_directory': '-o',\n",
      "                    'catalogs': '-t',\n",
      "                    'rid': '-rid',\n",
      "                    'date': '-d',\n",
      "                    'size': '-s',\n",
      "                    'conds': '-f',}\n"
     ],
     "language": "python",
     "metadata": {},
     "outputs": [],
     "prompt_number": 3
    },
    {
     "cell_type": "markdown",
     "metadata": {},
     "source": [
      "# Call catalog.py for specific expid"
     ]
    },
    {
     "cell_type": "code",
     "collapsed": false,
     "input": [
      "# call catalog.py\n",
      "code_path = '/Users/cpd/Dropbox/secret-adventure/batch/catalog.py'\n",
      "\n",
      "\n",
      "from subprocess import call\n",
      "from routines import print_command\n",
      "command = ['python', code_path]\n",
      "for args_dict_i in args_dict:\n",
      "    command.append(parser_transform[args_dict_i])\n",
      "    command.append(str(args_dict[args_dict_i]))\n",
      "\n",
      "print_command(command)\n",
      "call(command)"
     ],
     "language": "python",
     "metadata": {},
     "outputs": [
      {
       "output_type": "stream",
       "stream": "stdout",
       "text": [
        "python /Users/cpd/Dropbox/secret-adventure/batch/catalog.py -f default -e 232697 -t /Users/cpd/Desktop/Images/ -n Science20120915s1v3_134239 -m /Users/cpd/Desktop/Meshes/ -d 20130910 -rid 20130911103044 -s 32 -o /Users/cpd/Desktop/Images/00232697/ \n"
       ]
      },
      {
       "metadata": {},
       "output_type": "pyout",
       "prompt_number": 7,
       "text": [
        "1"
       ]
      }
     ],
     "prompt_number": 7
    },
    {
     "cell_type": "code",
     "collapsed": false,
     "input": [
      "!echo $PYTHONPATH"
     ],
     "language": "python",
     "metadata": {},
     "outputs": [
      {
       "output_type": "stream",
       "stream": "stdout",
       "text": [
        "/Users/cpd/Dropbox/derp-ninja/root/lib:/Users/cpd/Dropbox/derp-ninja/Reference:/Users/cpd/Dropbox/secret-adventure/WavefrontPSF:/Users/cpd/Dropbox/derp-ninja/Other:\r\n"
       ]
      }
     ],
     "prompt_number": 8
    },
    {
     "cell_type": "markdown",
     "metadata": {},
     "source": [
      "# Begin fit procedure"
     ]
    },
    {
     "cell_type": "code",
     "collapsed": false,
     "input": [
      "# make FocalPlane object\n",
      "from focal_plane import FocalPlane\n",
      "from routines import minuit_dictionary, mean_trim\n",
      "from routines_files import generate_hdu_lists\n",
      "from minuit_fit import Minuit_Fit\n",
      "from plot_wavefront import data_focal_plot, data_hist_plot\n",
      "\n",
      "list_catalogs, list_fits_extension, list_chip = \\\n",
      "        generate_hdu_lists(expid,\n",
      "                           path_base=dataDirectory)\n",
      "\n",
      "average = mean_trim\n",
      "boxdiv = 0\n",
      "chi_weights = {\n",
      "    'e0': 1.,\n",
      "    'e1': 1.,\n",
      "    'e2': 1.,\n",
      "    'delta1': 1.,\n",
      "    'delta2': 1.,\n",
      "    'zeta1': 1.,\n",
      "    'zeta2': 1.,\n",
      "    }\n",
      "conds = 'default'\n",
      "max_samples_box = 5\n",
      "nPixels = 16\n",
      "output_directory = '/Users/cpd/Desktop/fits/'\n",
      "\n",
      "\n",
      "FP = FocalPlane(list_catalogs=list_catalogs,\n",
      "                list_fits_extension=list_fits_extension,\n",
      "                list_chip=list_chip,\n",
      "                boxdiv=boxdiv,\n",
      "                max_samples_box=max_samples_box,\n",
      "                conds=conds,\n",
      "                average=average,\n",
      "                path_mesh=path_mesh,\n",
      "                nPixels=nPixels,\n",
      "                chi_weights=chi_weights\n",
      "                )\n",
      "\n",
      "edges = FP.decaminfo.getEdges(boxdiv=boxdiv)"
     ],
     "language": "python",
     "metadata": {},
     "outputs": []
    },
    {
     "cell_type": "code",
     "collapsed": false,
     "input": [
      "# define the fit function\n",
      "chi2hist = []\n",
      "def FitFunc(dz,\n",
      "            rzero,\n",
      "            dx, dy, xt, yt,\n",
      "            e1, e2,\n",
      "            z05d, z06d,\n",
      "            z07x, z07y,\n",
      "            z08x, z08y,\n",
      "            z09d,\n",
      "            z10d,\n",
      "            ):\n",
      "\n",
      "    in_dict_FP_func = locals().copy()\n",
      "    \n",
      "    \n",
      "    # go through the key_FP_funcs and make sure there are no nans\n",
      "    for key_FP_func in in_dict_FP_func.keys():\n",
      "        if np.isnan(in_dict_FP_func[key_FP_func]).any():\n",
      "            # if there is a nan, don't even bother calling, just return a\n",
      "            # big chi2\n",
      "            FP.remakedonut()\n",
      "            return 1e20\n",
      "\n",
      "    poles_i = FP.plane_averaged(in_dict_FP_func, coords=FP.coords,\n",
      "                                average=FP.average, boxdiv=FP.boxdiv,\n",
      "                                subav=FP.subav)\n",
      "    poles_i['e1'] += e1\n",
      "    poles_i['e2'] += e2\n",
      "    \n",
      "    FP.temp_plane = poles_i\n",
      "    \n",
      "    chi2 = FP - poles_i\n",
      "    chi2hist.append(chi2)\n",
      "    \n",
      "    return chi2['chi2']"
     ],
     "language": "python",
     "metadata": {},
     "outputs": []
    },
    {
     "cell_type": "code",
     "collapsed": false,
     "input": [
      "# define the save function\n",
      "from plot_wavefront import save_func\n",
      "def SaveFunc(steps):\n",
      "    in_dict = {'steps': steps,\n",
      "               'state_history': FP.history,\n",
      "               'chisquared_history': chi2hist,\n",
      "               'chi_weights': FP.chi_weights,\n",
      "               'plane': FP.temp_plane,\n",
      "               'reference_plane': FP.data,\n",
      "               'output_directory': output_directory,\n",
      "               'boxdiv': FP.boxdiv}\n",
      "    save_func(**in_dict)\n",
      "    \n",
      "    return"
     ],
     "language": "python",
     "metadata": {},
     "outputs": []
    },
    {
     "cell_type": "code",
     "collapsed": false,
     "input": [
      "# let's plot stars because why not\n",
      "n_iter = 10\n",
      "for i in xrange(0, FP.recdata.size, n_iter):\n",
      "    fig = plt.figure()\n",
      "    ax = fig.add_subplot(111, aspect='equal')\n",
      "    fig, ax = plot_star(FP.recdata[i], nPixels=nPixels)\n",
      "    ax.set_title('{0}, {1}'.format(i, FP.recdata[i]['CHIP']))\n",
      "    fig.savefig(output_directory + 'stars_{0:04d}.png'.format(i))\n",
      "    plt.close('all')"
     ],
     "language": "python",
     "metadata": {},
     "outputs": []
    },
    {
     "cell_type": "markdown",
     "metadata": {},
     "source": [
      "# do Minuit fit"
     ]
    },
    {
     "cell_type": "code",
     "collapsed": false,
     "input": [
      "p = {'dx': -234.491545,\n",
      "     'dy':  293.39127,\n",
      "     'dz':  29.452629,\n",
      "     'xt':  0.772277,\n",
      "     'yt':  9.760292,\n",
      "     'z05d':  0.049454,\n",
      "     'z06d': -0.246456,\n",
      "     'z07x': -0.000812,\n",
      "     'z07y':   7.50000000e-05,\n",
      "     'z08x':   3.00000000e-06,\n",
      "     'z08y': -0.000618,\n",
      "     'z09d': -0.06377,\n",
      "     'z10d':  0.049792,\n",
      "     'rzero': 0.125,\n",
      "     'e1': 0,\n",
      "     'e2': 0,\n",
      "     }\n",
      "# fit\n",
      "# TODO: set option to let minuit do the derivative itself\n",
      "par_names = p.keys()\n",
      "verbosity = 3\n",
      "force_derivatives = 1\n",
      "strategy = 1\n",
      "tolerance = 1\n",
      "h_base = 1e-3\n",
      "save_iter = 1\n",
      "max_iterations = len(par_names) * 1000\n",
      "minuit_results_list = []\n",
      "# set up initial guesses\n",
      "minuit_dict, h_dict = minuit_dictionary(par_names, h_base=h_base)\n",
      "for pkey in p:\n",
      "    minuit_dict[pkey] = p[pkey]\n",
      "# setup object\n",
      "minuit_fit = Minuit_Fit(FitFunc, minuit_dict, par_names=par_names,\n",
      "                        SaveFunc=SaveFunc,\n",
      "                        save_iter=save_iter,\n",
      "                        h_dict=h_dict,\n",
      "                        verbosity=verbosity,\n",
      "                        force_derivatives=force_derivatives,\n",
      "                        strategy=strategy, tolerance=tolerance,\n",
      "                        max_iterations=max_iterations)"
     ],
     "language": "python",
     "metadata": {},
     "outputs": []
    },
    {
     "cell_type": "markdown",
     "metadata": {},
     "source": [
      "# try all the combinations"
     ]
    },
    {
     "cell_type": "raw",
     "metadata": {},
     "source": [
      "# do e0\n",
      "# TODO: maybe cut the dz out of here? the other params matter too\n",
      "# (though a lil less than dz) so maybe no need to include it here...\n",
      "for key in par_names:\n",
      "    if (key != 'rzero') * (key != 'dz'):\n",
      "        minuit_fit.minuit_dict['fix_{0}'.format(key)] = True\n",
      "    else:\n",
      "        minuit_fit.minuit_dict['fix_{0}'.format(key)] = False\n",
      "\n",
      "for key in FP.chi_weights:\n",
      "    if (key != 'e0'):\n",
      "        FP.chi_weights[key] = 0\n",
      "    else:\n",
      "        FP.chi_weights[key] = 1\n",
      "minuit_fit.setupFit()\n",
      "minuit_fit.doFit()"
     ]
    },
    {
     "cell_type": "raw",
     "metadata": {},
     "source": [
      "minuit_results_list.append(minuit_fit.outFit())\n",
      "nCalls = int(minuit_fit.nCalls / 1000) * 1000\n",
      "np.save(output_directory + 'minuit_results', minuit_results_list)\n",
      "# do delta1\n",
      "for key in par_names:\n",
      "    # unfix the fixed\n",
      "    if minuit_fit.minuit_dict['fix_{0}'.format(key)]:\n",
      "        minuit_fit.minuit_dict['fix_{0}'.format(key)] = False\n",
      "    else:\n",
      "        # use the errors from our fixed ones.\n",
      "        minuit_fit.minuit_dict['error_{0}'.format(key)] = minuit_results_list[-1]['errors'][key]\n",
      "\n",
      "    minuit_fit.minuit_dict[key] = minuit_results_list[-1]['args'][key]\n",
      "        \n",
      "    if (key != 'z10d'):\n",
      "        minuit_fit.minuit_dict['fix_{0}'.format(key)] = True\n",
      "    else:\n",
      "        minuit_fit.minuit_dict['fix_{0}'.format(key)] = False\n",
      "\n",
      "for key in FP.chi_weights:\n",
      "    if (key != 'delta1'):\n",
      "        FP.chi_weights[key] = 0\n",
      "    else:\n",
      "        FP.chi_weights[key] = 1\n",
      "minuit_fit.setupFit()\n",
      "minuit_fit.nCalls = nCalls + 1000\n",
      "minuit_fit.doFit()"
     ]
    },
    {
     "cell_type": "raw",
     "metadata": {},
     "source": [
      "minuit_results_list.append(minuit_fit.outFit())\n",
      "nCalls = int(minuit_fit.nCalls / 1000) * 1000\n",
      "np.save(output_directory + 'minuit_results', minuit_results_list)\n",
      "# do delta2\n",
      "for key in par_names:\n",
      "    # unfix the fixed\n",
      "    if minuit_fit.minuit_dict['fix_{0}'.format(key)]:\n",
      "        minuit_fit.minuit_dict['fix_{0}'.format(key)] = False\n",
      "    else:\n",
      "        # use the errors from our fixed ones.\n",
      "        minuit_fit.minuit_dict['error_{0}'.format(key)] = minuit_results_list[-1]['errors'][key]\n",
      "\n",
      "    minuit_fit.minuit_dict[key] = minuit_results_list[-1]['args'][key]\n",
      "\n",
      "    if (key != 'z09d'):\n",
      "        minuit_fit.minuit_dict['fix_{0}'.format(key)] = True\n",
      "    else:\n",
      "        minuit_fit.minuit_dict['fix_{0}'.format(key)] = False\n",
      "\n",
      "for key in FP.chi_weights:\n",
      "    if (key != 'delta2'):\n",
      "        FP.chi_weights[key] = 0\n",
      "    else:\n",
      "        FP.chi_weights[key] = 1\n",
      "minuit_fit.setupFit()\n",
      "minuit_fit.nCalls = nCalls + 1000\n",
      "minuit_fit.doFit()"
     ]
    },
    {
     "cell_type": "raw",
     "metadata": {},
     "source": [
      "minuit_results_list.append(minuit_fit.outFit())\n",
      "nCalls = int(minuit_fit.nCalls / 1000) * 1000\n",
      "np.save(output_directory + 'minuit_results', minuit_results_list)\n",
      "# do zeta1\n",
      "for key in par_names:\n",
      "    # unfix the fixed\n",
      "    if minuit_fit.minuit_dict['fix_{0}'.format(key)]:\n",
      "        minuit_fit.minuit_dict['fix_{0}'.format(key)] = False\n",
      "    else:\n",
      "        # use the errors from our fixed ones.\n",
      "        minuit_fit.minuit_dict['error_{0}'.format(key)] = minuit_results_list[-1]['errors'][key]\n",
      "\n",
      "    minuit_fit.minuit_dict[key] = minuit_results_list[-1]['args'][key]\n",
      "\n",
      "    if (key != 'z08d'):\n",
      "        minuit_fit.minuit_dict['fix_{0}'.format(key)] = True\n",
      "    else:\n",
      "        minuit_fit.minuit_dict['fix_{0}'.format(key)] = False\n",
      "\n",
      "for key in FP.chi_weights:\n",
      "    if (key != 'zeta1'):\n",
      "        FP.chi_weights[key] = 0\n",
      "    else:\n",
      "        FP.chi_weights[key] = 1\n",
      "minuit_fit.setupFit()\n",
      "minuit_fit.nCalls = nCalls + 1000\n",
      "minuit_fit.doFit()"
     ]
    },
    {
     "cell_type": "raw",
     "metadata": {},
     "source": [
      "minuit_results_list.append(minuit_fit.outFit())\n",
      "nCalls = int(minuit_fit.nCalls / 1000) * 1000\n",
      "np.save(output_directory + 'minuit_results', minuit_results_list)\n",
      "# do zeta2\n",
      "for key in par_names:\n",
      "    # unfix the fixed\n",
      "    if minuit_fit.minuit_dict['fix_{0}'.format(key)]:\n",
      "        minuit_fit.minuit_dict['fix_{0}'.format(key)] = False\n",
      "    else:\n",
      "        # use the errors from our fixed ones.\n",
      "        minuit_fit.minuit_dict['error_{0}'.format(key)] = minuit_results_list[-1]['errors'][key]\n",
      "\n",
      "    minuit_fit.minuit_dict[key] = minuit_results_list[-1]['args'][key]\n",
      "\n",
      "    if (key != 'z07d'):\n",
      "        minuit_fit.minuit_dict['fix_{0}'.format(key)] = True\n",
      "    else:\n",
      "        minuit_fit.minuit_dict['fix_{0}'.format(key)] = False\n",
      "\n",
      "for key in FP.chi_weights:\n",
      "    if (key != 'zeta2'):\n",
      "        FP.chi_weights[key] = 0\n",
      "    else:\n",
      "        FP.chi_weights[key] = 1\n",
      "minuit_fit.setupFit()\n",
      "minuit_fit.nCalls = nCalls + 1000\n",
      "minuit_fit.doFit()"
     ]
    },
    {
     "cell_type": "raw",
     "metadata": {},
     "source": [
      "minuit_results_list.append(minuit_fit.outFit())\n",
      "nCalls = int(minuit_fit.nCalls / 1000) * 1000\n",
      "np.save(output_directory + 'minuit_results', minuit_results_list)\n",
      "# do e's\n",
      "for key in par_names:\n",
      "    # unfix the fixed\n",
      "    if minuit_fit.minuit_dict['fix_{0}'.format(key)]:\n",
      "        minuit_fit.minuit_dict['fix_{0}'.format(key)] = False\n",
      "    else:\n",
      "        # use the errors from our fixed ones.\n",
      "        minuit_fit.minuit_dict['error_{0}'.format(key)] = minuit_results_list[-1]['errors'][key]\n",
      "\n",
      "    minuit_fit.minuit_dict[key] = minuit_results_list[-1]['args'][key]\n",
      "\n",
      "    if (key != 'dz') * (key != 'dx') * (key != 'dy') * (key != 'xt') * (key != 'yt') * (key != 'e1') * (key != 'e2'):\n",
      "        minuit_fit.minuit_dict['fix_{0}'.format(key)] = True\n",
      "    else:\n",
      "        minuit_fit.minuit_dict['fix_{0}'.format(key)] = False\n",
      "\n",
      "for key in FP.chi_weights:\n",
      "    if (key != 'e1') * (key != 'e2'):\n",
      "        FP.chi_weights[key] = 0\n",
      "    else:\n",
      "        FP.chi_weights[key] = 1\n",
      "minuit_fit.setupFit()\n",
      "minuit_fit.nCalls = nCalls + 1000\n",
      "minuit_fit.doFit()"
     ]
    },
    {
     "cell_type": "markdown",
     "metadata": {},
     "source": [
      "# unfix all parameters"
     ]
    },
    {
     "cell_type": "code",
     "collapsed": false,
     "input": [
      "minuit_results_list.append(minuit_fit.outFit())\n",
      "nCalls = int(minuit_fit.nCalls / 1000) * 1000\n",
      "np.save(output_directory + 'minuit_results', minuit_results_list)\n",
      "# do the generic fit:\n",
      "# defix and update the unfixed\n",
      "for key in par_names:\n",
      "    # unfix the fixed\n",
      "    if minuit_fit.minuit_dict['fix_{0}'.format(key)]:\n",
      "        minuit_fit.minuit_dict['fix_{0}'.format(key)] = False\n",
      "    else:\n",
      "        # use the errors from our fixed ones.\n",
      "        minuit_fit.minuit_dict['error_{0}'.format(key)] = minuit_results_list[-1]['errors'][key]\n",
      "\n",
      "    minuit_fit.minuit_dict[key] = minuit_results_list[-1]['args'][key]\n",
      "for key in FP.chi_weights:\n",
      "    FP.chi_weights[key] = 1\n",
      "minuit_fit.setupFit()\n",
      "minuit_fit.nCalls = nCalls + 1000\n",
      "minuit_fit.doFit()"
     ],
     "language": "python",
     "metadata": {},
     "outputs": []
    },
    {
     "cell_type": "markdown",
     "metadata": {},
     "source": [
      "# out the results"
     ]
    },
    {
     "cell_type": "code",
     "collapsed": false,
     "input": [
      "minuit_results_list.append(minuit_fit.outFit())\n",
      "nCalls = int(minuit_fit.nCalls / 1000) * 1000 + 1000\n",
      "np.save(output_directory + 'minuit_results', minuit_results_list)"
     ],
     "language": "python",
     "metadata": {},
     "outputs": []
    },
    {
     "cell_type": "markdown",
     "metadata": {},
     "source": [
      "# assess how well we did"
     ]
    },
    {
     "cell_type": "code",
     "collapsed": false,
     "input": [
      "minuit_results = minuit_fit.outFit()\n",
      "for key in sorted(minuit_results['args']):\n",
      "    print(key, p[key], minuit_results['args'][key], minuit_results['errors'][key])\n",
      "for key in sorted(minuit_results):\n",
      "    if (key == 'correlation') + (key == 'covariance'):\n",
      "        continue\n",
      "    print(key, minuit_results[key])\n",
      "for key in sorted(minuit_dict):\n",
      "    print(key, minuit_dict[key])"
     ],
     "language": "python",
     "metadata": {},
     "outputs": []
    },
    {
     "cell_type": "code",
     "collapsed": false,
     "input": [
      "# compare\n",
      "chi2out = FitFunc(**minuit_results['args'])\n",
      "SaveFunc(9990)"
     ],
     "language": "python",
     "metadata": {},
     "outputs": []
    },
    {
     "cell_type": "code",
     "collapsed": false,
     "input": [
      "# plot chi2s\n",
      "plt.figure(figsize=(12,12), dpi=300)\n",
      "for key in sorted(chi2hist[-1].keys()):\n",
      "    x = range(len(chi2hist))\n",
      "    y = []\n",
      "    for i in x:\n",
      "        y.append(np.sum(chi2hist[i][key]))\n",
      "    plt.plot(x, np.log10(y), label=key)\n",
      "plt.legend()"
     ],
     "language": "python",
     "metadata": {},
     "outputs": []
    },
    {
     "cell_type": "code",
     "collapsed": false,
     "input": [
      "# plot values\n",
      "for key in sorted(FP.history[-1].keys()):\n",
      "    plt.figure(figsize=(12,12), dpi=300)\n",
      "    x = range(len(FP.history))\n",
      "    y = []\n",
      "    for i in x:\n",
      "        y.append(np.sum(FP.history[i][key]))\n",
      "    plt.plot(x, y, label=key)\n",
      "    plt.title('{0}'.format(key))"
     ],
     "language": "python",
     "metadata": {},
     "outputs": []
    }
   ],
   "metadata": {}
  }
 ]
}