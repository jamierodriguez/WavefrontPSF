{
 "cells": [
  {
   "cell_type": "markdown",
   "metadata": {},
   "source": [
    "TODO: Redo as a lasso type fit from sklearn. Divide the sample into 3 sets (train test validate) for validating the size of the hyperparameter for the lasso. You'll need to take the multipolyfit for dividing your z's into the appropriate basis."
   ]
  },
  {
   "cell_type": "code",
   "execution_count": 2,
   "metadata": {
    "collapsed": true
   },
   "outputs": [],
   "source": [
    "%matplotlib inline"
   ]
  },
  {
   "cell_type": "code",
   "execution_count": 3,
   "metadata": {
    "collapsed": true
   },
   "outputs": [],
   "source": [
    "import pandas as pd\n",
    "import numpy as np\n",
    "import matplotlib.pyplot as plt\n",
    "from sympy import pprint"
   ]
  },
  {
   "cell_type": "markdown",
   "metadata": {},
   "source": [
    "multipolyfit from https://github.com/mrocklin/multipolyfit/blob/master/multipolyfit/core.py"
   ]
  },
  {
   "cell_type": "code",
   "execution_count": 4,
   "metadata": {
    "collapsed": true
   },
   "outputs": [],
   "source": [
    "from numpy import linalg, zeros, ones, hstack, asarray\n",
    "import itertools\n",
    "\n",
    "def basis_vector(n, i):\n",
    "    \"\"\" Return an array like [0, 0, ..., 1, ..., 0, 0]\n",
    "    >>> from multipolyfit.core import basis_vector\n",
    "    >>> basis_vector(3, 1)\n",
    "    array([0, 1, 0])\n",
    "    >>> basis_vector(5, 4)\n",
    "    array([0, 0, 0, 0, 1])\n",
    "    \"\"\"\n",
    "    x = zeros(n, dtype=int)\n",
    "    x[i] = 1\n",
    "    return x\n",
    "\n",
    "def as_tall(x):\n",
    "    \"\"\" Turns a row vector into a column vector \"\"\"\n",
    "    return x.reshape(x.shape + (1,))\n",
    "\n",
    "def multipolyfit(xs, y, deg, full=False, model_out=False, powers_out=False):\n",
    "    \"\"\"\n",
    "    Least squares multivariate polynomial fit\n",
    "    Fit a polynomial like ``y = a**2 + 3a - 2ab + 4b**2 - 1``\n",
    "    with many covariates a, b, c, ...\n",
    "    Parameters\n",
    "    ----------\n",
    "    xs : array_like, shape (M, k)\n",
    "         x-coordinates of the k covariates over the M sample points\n",
    "    y :  array_like, shape(M,)\n",
    "         y-coordinates of the sample points.\n",
    "    deg : int\n",
    "         Degree o fthe fitting polynomial\n",
    "    model_out : bool (defaults to True)\n",
    "         If True return a callable function\n",
    "         If False return an array of coefficients\n",
    "    powers_out : bool (defaults to False)\n",
    "         Returns the meaning of each of the coefficients in the form of an\n",
    "         iterator that gives the powers over the inputs and 1\n",
    "         For example if xs corresponds to the covariates a,b,c then the array\n",
    "         [1, 2, 1, 0] corresponds to 1**1 * a**2 * b**1 * c**0\n",
    "    See Also\n",
    "    --------\n",
    "        numpy.polyfit\n",
    "    \"\"\"\n",
    "    y = asarray(y).squeeze()\n",
    "    rows = y.shape[0]\n",
    "    xs = asarray(xs)\n",
    "    num_covariates = xs.shape[1]\n",
    "    xs = hstack((ones((xs.shape[0], 1), dtype=xs.dtype) , xs))\n",
    "\n",
    "    generators = [basis_vector(num_covariates+1, i)\n",
    "                            for i in range(num_covariates+1)]\n",
    "\n",
    "    # All combinations of degrees\n",
    "    powers = map(sum, itertools.combinations_with_replacement(generators, deg))\n",
    "\n",
    "    # Raise data to specified degree pattern, stack in order\n",
    "    A = hstack(asarray([as_tall((xs**p).prod(1)) for p in powers]))\n",
    "\n",
    "    outs = linalg.lstsq(A, y)\n",
    "    beta = outs[0]\n",
    "    \n",
    "\n",
    "    if model_out:\n",
    "        return mk_model(beta, powers)\n",
    "\n",
    "    if powers_out:\n",
    "        return beta, powers\n",
    "    return beta\n",
    "\n",
    "def mk_model(beta, powers):\n",
    "    \"\"\" Create a callable python function out of beta/powers from multipolyfit\n",
    "    This function is callable from within multipolyfit using the model_out flag\n",
    "    \"\"\"\n",
    "    # Create a function that takes in many x values\n",
    "    # and returns an approximate y value\n",
    "    def model(*args):\n",
    "        num_covariates = len(powers[0]) - 1\n",
    "        if len(args)!=(num_covariates):\n",
    "            raise ValueError(\"Expected %d inputs\"%num_covariates)\n",
    "        xs = asarray((1,) + args)\n",
    "        return sum([coeff * (xs**p).prod()\n",
    "                             for p, coeff in zip(powers, beta)])\n",
    "    return model\n",
    "\n",
    "\n",
    "def mk_sympy_function(beta, powers):\n",
    "    from sympy import symbols, Add, Mul, S\n",
    "    num_covariates = len(powers[0]) - 1\n",
    "    xs = (S.One,) + symbols('z4:%d'%(num_covariates+4))\n",
    "    return Add(*[coeff * Mul(*[x**deg for x, deg in zip(xs, power)])\n",
    "                        for power, coeff in zip(powers, beta)])"
   ]
  },
  {
   "cell_type": "code",
   "execution_count": 5,
   "metadata": {
    "collapsed": true
   },
   "outputs": [],
   "source": [
    "from WavefrontPSF.donutengine import Zernike_to_Pixel_Interpolator\n",
    "from WavefrontPSF.psf_evaluator import Moment_Evaluator\n",
    "PSF_Drawer = Zernike_to_Pixel_Interpolator()\n",
    "PSF_Evaluator = Moment_Evaluator()\n",
    "\n",
    "def evaluate_psf(data):\n",
    "    stamps, data = PSF_Drawer(data)\n",
    "    evaluated_psfs = PSF_Evaluator(stamps)\n",
    "    # this is sick:\n",
    "    combined_df = evaluated_psfs.combine_first(data)\n",
    "\n",
    "    return combined_df"
   ]
  },
  {
   "cell_type": "code",
   "execution_count": 6,
   "metadata": {
    "collapsed": false
   },
   "outputs": [],
   "source": [
    "rzero = 0.14\n",
    "x = 0\n",
    "y = 0\n",
    "\n",
    "Ndim = 7\n",
    "Nsample = 100\n",
    "zmax = 0.2\n",
    "\n",
    "# zernikes = np.meshgrid(*[np.linspace(-zmax, zmax, Nsample) for i in xrange(Ndim)])\n",
    "# # z4 = zernikes[0], z5 = zernikes[1], etc\n",
    "# N = zernikes[0].size\n",
    "\n",
    "zernikes = np.random.random(size=(Ndim, Nsample)) * (zmax + zmax) - zmax\n",
    "\n",
    "data = {'rzero': np.ones(N) * rzero,\n",
    "        'x': np.ones(N) * x,\n",
    "        'y': np.ones(N) * y}\n",
    "\n",
    "x_keys = []\n",
    "for zi, zernike in enumerate(zernikes):\n",
    "    zkey = 'z{0}'.format(zi + 4)\n",
    "    data[zkey] = zernike.flatten()\n",
    "    x_keys.append(zkey)\n",
    "df = pd.DataFrame(data)\n",
    "df = evaluate_psf(df)\n",
    "\n",
    "y_keys = ['flux', 'e0prime', 'e0', 'e1', 'e2', 'delta1', 'delta2', 'zeta1', 'zeta2']"
   ]
  },
  {
   "cell_type": "code",
   "execution_count": 8,
   "metadata": {
    "collapsed": true
   },
   "outputs": [],
   "source": [
    "def power_selector(zi, zj, powers, beta):\n",
    "    powersum = np.sum(powers[0])\n",
    "    powers_desired = np.zeros(len(powers[0]), dtype=np.int)\n",
    "    powers_desired[zi - 3] += 1\n",
    "    powers_desired[zj - 3] += 1\n",
    "    powers_desired[0] = powersum - np.sum(powers_desired)\n",
    "    ith = np.array([np.all(power == powers_desired) for power in powers])\n",
    "    return beta[ith]"
   ]
  },
  {
   "cell_type": "code",
   "execution_count": 9,
   "metadata": {
    "collapsed": false
   },
   "outputs": [
    {
     "name": "stdout",
     "output_type": "stream",
     "text": [
      "        2                                                              2      \n",
      "25.2⋅z₁₀  + 0.1⋅z₁₀⋅z₅ - 0.1⋅z₁₀⋅z₆ - 0.2⋅z₁₀⋅z₈ - 0.1⋅z₁₀⋅z₉ + 24.0⋅z₄  + 0.6\n",
      "\n",
      "                            2          2                                  2   \n",
      "⋅z₄⋅z₆ - 0.1⋅z₄⋅z₉ + 12.4⋅z₅  + 12.3⋅z₆  + 0.1⋅z₆⋅z₈ - 0.1⋅z₆⋅z₉ + 36.6⋅z₇  - \n",
      "\n",
      "                   2          2       \n",
      "1.0⋅z₇⋅z₉ + 35.3⋅z₈  + 25.2⋅z₉  + 58.0\n"
     ]
    }
   ],
   "source": [
    "yith = 2\n",
    "deg = 2\n",
    "\n",
    "xs = df[x_keys].values\n",
    "ys = df[y_keys].values\n",
    "y = ys[:, yith]  # for e0\n",
    "\n",
    "beta, powers = multipolyfit(xs=xs, y=y, deg=deg, model_out=False, powers_out=True)\n",
    "\n",
    "beta_ith = power_selector(4, 4, powers, beta)\n",
    "beta *= 24. / beta_ith\n",
    "\n",
    "pprint(mk_sympy_function(beta, powers))"
   ]
  },
  {
   "cell_type": "code",
   "execution_count": 11,
   "metadata": {
    "collapsed": false
   },
   "outputs": [
    {
     "name": "stdout",
     "output_type": "stream",
     "text": [
      "e0 4 4 [ 0.09545515]\n",
      "       2                                               2   2         2   2    \n",
      "0.1⋅z₁₀  + 0.1⋅z₁₀⋅z₄⋅z₅⋅z₇ - 0.1⋅z₁₀⋅z₄⋅z₆⋅z₈ - 0.1⋅z₄ ⋅z₇  - 0.1⋅z₄ ⋅z₈  + 0\n",
      "\n",
      "     2                                                   2                    \n",
      ".1⋅z₄  - 0.1⋅z₄⋅z₅⋅z₇⋅z₈ - 0.1⋅z₄⋅z₅⋅z₈⋅z₉ + 0.1⋅z₄⋅z₆⋅z₇  - 0.1⋅z₄⋅z₆⋅z₇⋅z₉ +\n",
      "\n",
      "       2         2         2      \n",
      " 0.1⋅z₇  + 0.1⋅z₈  + 0.1⋅z₉  + 0.2\n"
     ]
    },
    {
     "data": {
      "text/plain": [
       "<function __main__.func>"
      ]
     },
     "execution_count": 11,
     "metadata": {},
     "output_type": "execute_result"
    }
   ],
   "source": [
    "from IPython.html.widgets import interact\n",
    "\n",
    "def func(zi_txt='4', zj_txt='4', const_txt='1.', yith=2, deg=1, threshold_txt='0'):\n",
    "    threshold = float(threshold_txt)\n",
    "    y = ys[:, yith]\n",
    "    beta, powers = multipolyfit(xs=xs, y=y, deg=4, model_out=False, powers_out=True)\n",
    "    zi = int(zi_txt)\n",
    "    zj = int(zj_txt)\n",
    "    const = float(const_txt)\n",
    "    beta = beta * const\n",
    "    beta = np.where(np.abs(beta) > threshold, beta, 0)\n",
    "    beta = np.around(beta, deg)\n",
    "    print(y_keys[yith], zi, zj, power_selector(zi, zj, powers, beta))\n",
    "    pprint(mk_sympy_function(beta, powers))\n",
    "interact(func, deg=(0,5), yith=(0, 8))"
   ]
  },
  {
   "cell_type": "code",
   "execution_count": 140,
   "metadata": {
    "collapsed": false,
    "scrolled": true
   },
   "outputs": [
    {
     "data": {
      "text/plain": [
       "array([-0.02106377])"
      ]
     },
     "execution_count": 140,
     "metadata": {},
     "output_type": "execute_result"
    }
   ],
   "source": [
    "power_selector(6, 10, powers, beta)"
   ]
  },
  {
   "cell_type": "code",
   "execution_count": null,
   "metadata": {
    "collapsed": true
   },
   "outputs": [],
   "source": []
  }
 ],
 "metadata": {
  "kernelspec": {
   "display_name": "Python 2",
   "language": "python",
   "name": "python2"
  },
  "language_info": {
   "codemirror_mode": {
    "name": "ipython",
    "version": 2
   },
   "file_extension": ".py",
   "mimetype": "text/x-python",
   "name": "python",
   "nbconvert_exporter": "python",
   "pygments_lexer": "ipython2",
   "version": "2.7.3"
  }
 },
 "nbformat": 4,
 "nbformat_minor": 0
}
