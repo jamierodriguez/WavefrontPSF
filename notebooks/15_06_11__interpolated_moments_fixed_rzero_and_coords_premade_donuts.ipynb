{
 "cells": [
  {
   "cell_type": "markdown",
   "metadata": {},
   "source": [
    "TODO: Redo as a lasso type fit from sklearn. Divide the sample into 3 sets (train test validate) for validating the size of the hyperparameter for the lasso. You'll need to take the multipolyfit for dividing your z's into the appropriate basis."
   ]
  },
  {
   "cell_type": "code",
   "execution_count": 2,
   "metadata": {
    "collapsed": true
   },
   "outputs": [],
   "source": [
    "%matplotlib inline"
   ]
  },
  {
   "cell_type": "code",
   "execution_count": 3,
   "metadata": {
    "collapsed": true
   },
   "outputs": [],
   "source": [
    "# load up relevant packages\n",
    "from __future__ import print_function\n",
    "import pandas as pd\n",
    "import numpy as np\n",
    "import matplotlib.pyplot as plt\n",
    "import sympy as sp\n",
    "from sklearn.cross_validation import train_test_split\n",
    "from sympy import pprint"
   ]
  },
  {
   "cell_type": "markdown",
   "metadata": {},
   "source": [
    "multipolyfit from https://github.com/mrocklin/multipolyfit/blob/master/multipolyfit/core.py"
   ]
  },
  {
   "cell_type": "code",
   "execution_count": 4,
   "metadata": {
    "collapsed": true
   },
   "outputs": [],
   "source": [
    "from numpy import linalg, zeros, ones, hstack, asarray\n",
    "from itertools import combinations_with_replacement\n",
    "\n",
    "def basis_vector(n, i):\n",
    "    \"\"\" Return an array like [0, 0, ..., 1, ..., 0, 0]\n",
    "    >>> from multipolyfit.core import basis_vector\n",
    "    >>> basis_vector(3, 1)\n",
    "    array([0, 1, 0])\n",
    "    >>> basis_vector(5, 4)\n",
    "    array([0, 0, 0, 0, 1])\n",
    "    \"\"\"\n",
    "    x = zeros(n, dtype=int)\n",
    "    x[i] = 1\n",
    "    return x\n",
    "\n",
    "def as_tall(x):\n",
    "    \"\"\" Turns a row vector into a column vector \"\"\"\n",
    "    return x.reshape(x.shape + (1,))\n",
    "\n",
    "def stack_x(xs, deg):\n",
    "\n",
    "    num_covariates = xs.shape[1]\n",
    "    xs = hstack((ones((xs.shape[0], 1), dtype=xs.dtype) , xs))\n",
    "\n",
    "    generators = [basis_vector(num_covariates+1, i)\n",
    "                  for i in range(num_covariates+1)]\n",
    "\n",
    "    # All combinations of degrees\n",
    "    powers = map(sum, combinations_with_replacement(generators, deg))\n",
    "\n",
    "    # Raise data to specified degree pattern, stack in order\n",
    "    A = hstack(asarray([as_tall((xs**p).prod(1)) for p in powers]))\n",
    "\n",
    "    return A, powers\n",
    "\n",
    "def power_selector(zi, zj, powers, beta):\n",
    "    powersum = np.sum(powers[0])\n",
    "    powers_desired = np.zeros(len(powers[0]), dtype=np.int)\n",
    "    powers_desired[zi - 3] += 1\n",
    "    powers_desired[zj - 3] += 1\n",
    "    powers_desired[0] = powersum - np.sum(powers_desired)\n",
    "    ith = np.array([np.all(power == powers_desired) for power in powers])\n",
    "    return beta[ith]\n",
    "\n",
    "def mk_model(beta, powers):\n",
    "    \"\"\" Create a callable python function out of beta/powers from multipolyfit\n",
    "    This function is callable from within multipolyfit using the model_out flag\n",
    "    \"\"\"\n",
    "    # Create a function that takes in many x values\n",
    "    # and returns an approximate y value\n",
    "    def model(*args):\n",
    "        num_covariates = len(powers[0]) - 1\n",
    "        if len(args)!=(num_covariates):\n",
    "            raise ValueError(\"Expected %d inputs\"%num_covariates)\n",
    "        xs = asarray((1,) + args)\n",
    "        return sum([coeff * (xs**p).prod()\n",
    "                             for p, coeff in zip(powers, beta)])\n",
    "    return model\n",
    "\n",
    "def mk_pretty_function(beta, powers):\n",
    "    num_covariates = len(powers[0]) - 1\n",
    "    xs = [''] + ['z{0}'.format(i) for i in xrange(4, 12)]\n",
    "    terms = []\n",
    "    for ith in xrange(len(beta)):\n",
    "        coef = beta[ith]\n",
    "        power = powers[ith]\n",
    "        term = '{0:.2e}'.format(coef)\n",
    "        if term.count('0') == 5:\n",
    "            continue\n",
    "        term += ' '\n",
    "        for power_ith in xrange(len(power)):\n",
    "            term_power = xs[power_ith]\n",
    "            number_terms = power[power_ith]\n",
    "            for j in xrange(number_terms):\n",
    "                term += term_power\n",
    "        if len(term) > 0:\n",
    "            terms.append(term)\n",
    "    return terms\n",
    "\n",
    "def mk_sympy_function(beta, powers):\n",
    "    from sympy import symbols, Add, Mul, S\n",
    "    num_covariates = len(powers[0]) - 1\n",
    "    xs = (S.One,) + symbols('z4:%d'%(num_covariates+4))\n",
    "    return Add(*[coeff * Mul(*[x**deg for x, deg in zip(xs, power)])\n",
    "                        for power, coeff in zip(powers, beta)])"
   ]
  },
  {
   "cell_type": "code",
   "execution_count": 5,
   "metadata": {
    "collapsed": false
   },
   "outputs": [],
   "source": [
    "df_in = pd.read_csv('/Users/cpd/Projects/WavefrontPSF/meshes/donuts_fixed_rzeros.csv', index_col=0)"
   ]
  },
  {
   "cell_type": "code",
   "execution_count": 6,
   "metadata": {
    "collapsed": true
   },
   "outputs": [],
   "source": [
    "\n",
    "# select rzero near 0.10, x near 10, y near 0\n",
    "selection = np.isclose(df_in['rzero'], 0.10) * np.isclose(df_in['x'], 10) * np.isclose(df_in['y'], 0)\n",
    "df = df_in[selection]\n",
    "\n",
    "x_keys = []\n",
    "for zi in xrange(4, 12):\n",
    "    zkey = 'z{0}'.format(zi)\n",
    "    x_keys.append(zkey)\n",
    "\n",
    "y_keys = ['flux', 'Mx', 'My', 'e0prime', 'e0', 'e1', 'e2',\n",
    "          'delta1', 'delta2', 'zeta1', 'zeta2']"
   ]
  },
  {
   "cell_type": "code",
   "execution_count": 7,
   "metadata": {
    "collapsed": true
   },
   "outputs": [],
   "source": [
    "# stack xs\n",
    "deg = 3  # want 2d polynomial\n",
    "\n",
    "xs = df[x_keys].values\n",
    "ys = df[y_keys].values\n",
    "\n",
    "x_powers, powers = stack_x(xs, deg)\n",
    "\n",
    "# # normalize the data\n",
    "# x_powers_std = x_powers.std(axis=0)\n",
    "# x_powers[:, 1:] /= x_powers_std[1:]\n",
    "\n",
    "# split dataset. 0.6 train, 0.2 val, 0.2 test\n",
    "x_powers_train, x_powers_test, ys_train, ys_test = train_test_split(x_powers, ys, test_size=0.4)\n",
    "x_powers_test, x_powers_val, ys_test, ys_val = train_test_split(x_powers_test, ys_test, test_size=0.5)"
   ]
  },
  {
   "cell_type": "code",
   "execution_count": 8,
   "metadata": {
    "collapsed": true
   },
   "outputs": [],
   "source": [
    "from sklearn.linear_model import Lasso, LassoLars, Ridge, LinearRegression\n",
    "\n",
    "fit_intercept=False\n",
    "normalize=False\n",
    "max_iter=10000\n",
    "tol=1e-8\n",
    "positive=False\n",
    "best_model = None\n",
    "score = -1000\n",
    "\n",
    "alpha = 1e-3"
   ]
  },
  {
   "cell_type": "code",
   "execution_count": 9,
   "metadata": {
    "collapsed": false
   },
   "outputs": [
    {
     "name": "stdout",
     "output_type": "stream",
     "text": [
      "linear 0.981299345186\n",
      "lasso 0.978102483017\n"
     ]
    }
   ],
   "source": [
    "linear = LinearRegression(fit_intercept=fit_intercept, normalize=normalize)\n",
    "linear.fit(x_powers_train, ys_train)\n",
    "print('linear', linear.score(x_powers_test, ys_test))\n",
    "\n",
    "lasso = Lasso(alpha=alpha, normalize=normalize, positive=positive,\n",
    "                      fit_intercept=fit_intercept,\n",
    "                      tol=tol, max_iter=max_iter)\n",
    "lasso.fit(x_powers_train, ys_train)\n",
    "print('lasso', lasso.score(x_powers_test, ys_test))   \n",
    "\n",
    "# ridge = Ridge(alpha=alpha, fit_intercept=fit_intercept, tol=tol, max_iter=max_iter, normalize=normalize)\n",
    "# ridge.fit(x_powers_train, ys_train)\n",
    "# print('ridge', ridge.score(x_powers_test, ys_test))  "
   ]
  },
  {
   "cell_type": "code",
   "execution_count": 10,
   "metadata": {
    "collapsed": false,
    "scrolled": false
   },
   "outputs": [
    {
     "name": "stdout",
     "output_type": "stream",
     "text": [
      "1.59e+01  + -1.00e+00 z7 + -1.61e-02 z9 + 3.33e-02 z4z4z7 + 8.42e-02 z4z5z8 + -5.02e-02 z4z5z10 + -9.02e-02 z4z6z7 + 5.56e-02 z4z6z9 + 4.92e-01 z4z7z11 + 5.28e-02 z5z6z10 + 2.44e-01 z5z8z11 + -9.19e-02 z5z10z11 + -1.69e-02 z6z6z9 + -2.47e-01 z6z7z11 + 9.82e-02 z6z9z11 + -9.93e-03 z7z8z10 + 5.35e-01 z7z11z11 + \n"
     ]
    },
    {
     "data": {
      "text/plain": [
       "<function __main__.func>"
      ]
     },
     "execution_count": 10,
     "metadata": {},
     "output_type": "execute_result"
    }
   ],
   "source": [
    "from IPython.html.widgets import interact\n",
    "\n",
    "def func(const_txt='1.', yith=2, regression='lasso'):\n",
    "    if regression == 'ridge':\n",
    "        regressor = ridge\n",
    "    elif regression == 'lasso':\n",
    "        regressor = lasso\n",
    "    elif regression == 'linear':\n",
    "        regressor = linear\n",
    "\n",
    "    const = float(const_txt)\n",
    "    beta = (const * regressor.coef_)[yith]\n",
    "\n",
    "    terms = mk_pretty_function(beta, powers)\n",
    "    # print the terms\n",
    "    string = ''\n",
    "    for term in terms:\n",
    "        string += term\n",
    "        string += ' + '\n",
    "    print(string)\n",
    "interact(func, yith=(0, 8), regression=['ridge', 'lasso', 'linear'])"
   ]
  },
  {
   "cell_type": "code",
   "execution_count": null,
   "metadata": {
    "collapsed": true
   },
   "outputs": [],
   "source": []
  }
 ],
 "metadata": {
  "kernelspec": {
   "display_name": "Python 2",
   "language": "python",
   "name": "python2"
  },
  "language_info": {
   "codemirror_mode": {
    "name": "ipython",
    "version": 2
   },
   "file_extension": ".py",
   "mimetype": "text/x-python",
   "name": "python",
   "nbconvert_exporter": "python",
   "pygments_lexer": "ipython2",
   "version": "2.7.3"
  }
 },
 "nbformat": 4,
 "nbformat_minor": 0
}
